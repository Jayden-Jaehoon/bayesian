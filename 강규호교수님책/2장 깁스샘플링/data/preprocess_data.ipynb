{
 "cells": [
  {
   "cell_type": "code",
   "id": "67beafabba9087d9",
   "metadata": {
    "collapsed": true,
    "ExecuteTime": {
     "end_time": "2024-09-29T07:38:58.806737Z",
     "start_time": "2024-09-29T07:38:58.232244Z"
    }
   },
   "source": "import pandas as pd",
   "outputs": [],
   "execution_count": 1
  },
  {
   "metadata": {
    "ExecuteTime": {
     "end_time": "2024-09-18T01:20:31.564647Z",
     "start_time": "2024-09-18T01:20:31.480134Z"
    }
   },
   "cell_type": "code",
   "source": [
    "korea_cd = pd.read_csv('korea_cd_raw.csv').T.iloc[4:]\n",
    "korea_cd.index = pd.to_datetime(korea_cd.index)\n",
    "korea_cd.columns = ['korea_cd91']\n",
    "korea_cd"
   ],
   "id": "initial_id",
   "outputs": [
    {
     "data": {
      "text/plain": [
       "           korea_cd91\n",
       "2000-01-04       7.35\n",
       "2000-01-05       7.37\n",
       "2000-01-06       7.38\n",
       "2000-01-07       7.38\n",
       "2000-01-08       7.38\n",
       "...               ...\n",
       "2024-09-09       3.51\n",
       "2024-09-10       3.51\n",
       "2024-09-11       3.51\n",
       "2024-09-12       3.51\n",
       "2024-09-13       3.53\n",
       "\n",
       "[6170 rows x 1 columns]"
      ],
      "text/html": [
       "<div>\n",
       "<style scoped>\n",
       "    .dataframe tbody tr th:only-of-type {\n",
       "        vertical-align: middle;\n",
       "    }\n",
       "\n",
       "    .dataframe tbody tr th {\n",
       "        vertical-align: top;\n",
       "    }\n",
       "\n",
       "    .dataframe thead th {\n",
       "        text-align: right;\n",
       "    }\n",
       "</style>\n",
       "<table border=\"1\" class=\"dataframe\">\n",
       "  <thead>\n",
       "    <tr style=\"text-align: right;\">\n",
       "      <th></th>\n",
       "      <th>korea_cd91</th>\n",
       "    </tr>\n",
       "  </thead>\n",
       "  <tbody>\n",
       "    <tr>\n",
       "      <th>2000-01-04</th>\n",
       "      <td>7.35</td>\n",
       "    </tr>\n",
       "    <tr>\n",
       "      <th>2000-01-05</th>\n",
       "      <td>7.37</td>\n",
       "    </tr>\n",
       "    <tr>\n",
       "      <th>2000-01-06</th>\n",
       "      <td>7.38</td>\n",
       "    </tr>\n",
       "    <tr>\n",
       "      <th>2000-01-07</th>\n",
       "      <td>7.38</td>\n",
       "    </tr>\n",
       "    <tr>\n",
       "      <th>2000-01-08</th>\n",
       "      <td>7.38</td>\n",
       "    </tr>\n",
       "    <tr>\n",
       "      <th>...</th>\n",
       "      <td>...</td>\n",
       "    </tr>\n",
       "    <tr>\n",
       "      <th>2024-09-09</th>\n",
       "      <td>3.51</td>\n",
       "    </tr>\n",
       "    <tr>\n",
       "      <th>2024-09-10</th>\n",
       "      <td>3.51</td>\n",
       "    </tr>\n",
       "    <tr>\n",
       "      <th>2024-09-11</th>\n",
       "      <td>3.51</td>\n",
       "    </tr>\n",
       "    <tr>\n",
       "      <th>2024-09-12</th>\n",
       "      <td>3.51</td>\n",
       "    </tr>\n",
       "    <tr>\n",
       "      <th>2024-09-13</th>\n",
       "      <td>3.53</td>\n",
       "    </tr>\n",
       "  </tbody>\n",
       "</table>\n",
       "<p>6170 rows × 1 columns</p>\n",
       "</div>"
      ]
     },
     "execution_count": 2,
     "metadata": {},
     "output_type": "execute_result"
    }
   ],
   "execution_count": 2
  },
  {
   "metadata": {
    "ExecuteTime": {
     "end_time": "2024-09-18T01:20:31.584165Z",
     "start_time": "2024-09-18T01:20:31.565394Z"
    }
   },
   "cell_type": "code",
   "source": [
    "treasury_3m = pd.read_csv('treasury_3month_raw.csv').set_index('DATE')['2000':]\n",
    "treasury_3m.index = pd.to_datetime(treasury_3m.index)\n",
    "treasury_3m.columns = ['treasury_3m']\n",
    "treasury_3m = treasury_3m.replace('.', float('nan')) # 데이터의 값이 .으로 표시되어 있다면 nan으로 변환\n",
    "treasury_3m.ffill(inplace=True) # 빈 데이터는 앞의 값으로 채우기\n",
    "treasury_3m"
   ],
   "id": "f1d30c6f3531e6fa",
   "outputs": [
    {
     "data": {
      "text/plain": [
       "           treasury_3m\n",
       "DATE                  \n",
       "2000-01-03        5.48\n",
       "2000-01-04        5.43\n",
       "2000-01-05        5.44\n",
       "2000-01-06        5.41\n",
       "2000-01-07        5.38\n",
       "...                ...\n",
       "2024-09-09        5.11\n",
       "2024-09-10        5.06\n",
       "2024-09-11         5.1\n",
       "2024-09-12        5.06\n",
       "2024-09-13        4.97\n",
       "\n",
       "[6445 rows x 1 columns]"
      ],
      "text/html": [
       "<div>\n",
       "<style scoped>\n",
       "    .dataframe tbody tr th:only-of-type {\n",
       "        vertical-align: middle;\n",
       "    }\n",
       "\n",
       "    .dataframe tbody tr th {\n",
       "        vertical-align: top;\n",
       "    }\n",
       "\n",
       "    .dataframe thead th {\n",
       "        text-align: right;\n",
       "    }\n",
       "</style>\n",
       "<table border=\"1\" class=\"dataframe\">\n",
       "  <thead>\n",
       "    <tr style=\"text-align: right;\">\n",
       "      <th></th>\n",
       "      <th>treasury_3m</th>\n",
       "    </tr>\n",
       "    <tr>\n",
       "      <th>DATE</th>\n",
       "      <th></th>\n",
       "    </tr>\n",
       "  </thead>\n",
       "  <tbody>\n",
       "    <tr>\n",
       "      <th>2000-01-03</th>\n",
       "      <td>5.48</td>\n",
       "    </tr>\n",
       "    <tr>\n",
       "      <th>2000-01-04</th>\n",
       "      <td>5.43</td>\n",
       "    </tr>\n",
       "    <tr>\n",
       "      <th>2000-01-05</th>\n",
       "      <td>5.44</td>\n",
       "    </tr>\n",
       "    <tr>\n",
       "      <th>2000-01-06</th>\n",
       "      <td>5.41</td>\n",
       "    </tr>\n",
       "    <tr>\n",
       "      <th>2000-01-07</th>\n",
       "      <td>5.38</td>\n",
       "    </tr>\n",
       "    <tr>\n",
       "      <th>...</th>\n",
       "      <td>...</td>\n",
       "    </tr>\n",
       "    <tr>\n",
       "      <th>2024-09-09</th>\n",
       "      <td>5.11</td>\n",
       "    </tr>\n",
       "    <tr>\n",
       "      <th>2024-09-10</th>\n",
       "      <td>5.06</td>\n",
       "    </tr>\n",
       "    <tr>\n",
       "      <th>2024-09-11</th>\n",
       "      <td>5.1</td>\n",
       "    </tr>\n",
       "    <tr>\n",
       "      <th>2024-09-12</th>\n",
       "      <td>5.06</td>\n",
       "    </tr>\n",
       "    <tr>\n",
       "      <th>2024-09-13</th>\n",
       "      <td>4.97</td>\n",
       "    </tr>\n",
       "  </tbody>\n",
       "</table>\n",
       "<p>6445 rows × 1 columns</p>\n",
       "</div>"
      ]
     },
     "execution_count": 3,
     "metadata": {},
     "output_type": "execute_result"
    }
   ],
   "execution_count": 3
  },
  {
   "metadata": {},
   "cell_type": "code",
   "outputs": [],
   "execution_count": null,
   "source": "",
   "id": "f8399c42a9703263"
  },
  {
   "metadata": {},
   "cell_type": "code",
   "outputs": [],
   "execution_count": null,
   "source": "",
   "id": "df600a8eca896fec"
  },
  {
   "metadata": {
    "ExecuteTime": {
     "end_time": "2024-09-18T01:29:09.982985Z",
     "start_time": "2024-09-18T01:29:09.879554Z"
    }
   },
   "cell_type": "code",
   "source": [
    "usdkrw = pd.read_csv('usd_krw_raw.csv').T.iloc[4:,3].to_frame()\n",
    "usdkrw.columns = ['usdkrw']\n",
    "usdkrw.index = pd.to_datetime(usdkrw.index)\n",
    "usdkrw.ffill(inplace=True)\n",
    "usdkrw"
   ],
   "id": "623c5c58e60ff2e6",
   "outputs": [
    {
     "data": {
      "text/plain": [
       "            usdkrw\n",
       "2000-01-04  1122.5\n",
       "2000-01-05  1135.0\n",
       "2000-01-06  1146.6\n",
       "2000-01-07  1138.0\n",
       "2000-01-08  1138.0\n",
       "...            ...\n",
       "2024-09-09  1339.8\n",
       "2024-09-10  1343.7\n",
       "2024-09-11    1339\n",
       "2024-09-12  1338.7\n",
       "2024-09-13  1329.5\n",
       "\n",
       "[6170 rows x 1 columns]"
      ],
      "text/html": [
       "<div>\n",
       "<style scoped>\n",
       "    .dataframe tbody tr th:only-of-type {\n",
       "        vertical-align: middle;\n",
       "    }\n",
       "\n",
       "    .dataframe tbody tr th {\n",
       "        vertical-align: top;\n",
       "    }\n",
       "\n",
       "    .dataframe thead th {\n",
       "        text-align: right;\n",
       "    }\n",
       "</style>\n",
       "<table border=\"1\" class=\"dataframe\">\n",
       "  <thead>\n",
       "    <tr style=\"text-align: right;\">\n",
       "      <th></th>\n",
       "      <th>usdkrw</th>\n",
       "    </tr>\n",
       "  </thead>\n",
       "  <tbody>\n",
       "    <tr>\n",
       "      <th>2000-01-04</th>\n",
       "      <td>1122.5</td>\n",
       "    </tr>\n",
       "    <tr>\n",
       "      <th>2000-01-05</th>\n",
       "      <td>1135.0</td>\n",
       "    </tr>\n",
       "    <tr>\n",
       "      <th>2000-01-06</th>\n",
       "      <td>1146.6</td>\n",
       "    </tr>\n",
       "    <tr>\n",
       "      <th>2000-01-07</th>\n",
       "      <td>1138.0</td>\n",
       "    </tr>\n",
       "    <tr>\n",
       "      <th>2000-01-08</th>\n",
       "      <td>1138.0</td>\n",
       "    </tr>\n",
       "    <tr>\n",
       "      <th>...</th>\n",
       "      <td>...</td>\n",
       "    </tr>\n",
       "    <tr>\n",
       "      <th>2024-09-09</th>\n",
       "      <td>1339.8</td>\n",
       "    </tr>\n",
       "    <tr>\n",
       "      <th>2024-09-10</th>\n",
       "      <td>1343.7</td>\n",
       "    </tr>\n",
       "    <tr>\n",
       "      <th>2024-09-11</th>\n",
       "      <td>1339</td>\n",
       "    </tr>\n",
       "    <tr>\n",
       "      <th>2024-09-12</th>\n",
       "      <td>1338.7</td>\n",
       "    </tr>\n",
       "    <tr>\n",
       "      <th>2024-09-13</th>\n",
       "      <td>1329.5</td>\n",
       "    </tr>\n",
       "  </tbody>\n",
       "</table>\n",
       "<p>6170 rows × 1 columns</p>\n",
       "</div>"
      ]
     },
     "execution_count": 28,
     "metadata": {},
     "output_type": "execute_result"
    }
   ],
   "execution_count": 28
  },
  {
   "metadata": {
    "ExecuteTime": {
     "end_time": "2024-09-18T01:29:17.349730Z",
     "start_time": "2024-09-18T01:29:17.309850Z"
    }
   },
   "cell_type": "code",
   "source": [
    "korea_cd.to_csv('korea_cd_daily.csv')\n",
    "treasury_3m.to_csv('treasury_3month_daily.csv')\n",
    "usdkrw.to_csv('usd_krw_daily.csv')"
   ],
   "id": "56b1665ed82aec69",
   "outputs": [],
   "execution_count": 30
  },
  {
   "metadata": {
    "ExecuteTime": {
     "end_time": "2024-09-18T01:29:17.980845Z",
     "start_time": "2024-09-18T01:29:17.956681Z"
    }
   },
   "cell_type": "code",
   "source": [
    "# 각각의 일별데이터를 분기 마지막 데이터로 변환\n",
    "korea_cd_q = korea_cd.resample('QE').last()\n",
    "treasury_3m_q = treasury_3m.resample('QE').last()\n",
    "usdkrw_q = usdkrw.resample('QE').last()"
   ],
   "id": "e1703ccee0c70d96",
   "outputs": [],
   "execution_count": 31
  },
  {
   "metadata": {
    "ExecuteTime": {
     "end_time": "2024-09-18T01:29:18.422406Z",
     "start_time": "2024-09-18T01:29:18.417806Z"
    }
   },
   "cell_type": "code",
   "source": [
    "korea_cd_q.to_csv('korea_cd_quarterly.csv')\n",
    "treasury_3m_q.to_csv('treasury_3month_quarterly.csv')\n",
    "usdkrw_q.to_csv('usd_krw_quarterly.csv')"
   ],
   "id": "1a9fb406db17f136",
   "outputs": [],
   "execution_count": 32
  },
  {
   "metadata": {
    "ExecuteTime": {
     "end_time": "2024-09-18T01:29:22.440782Z",
     "start_time": "2024-09-18T01:29:22.401741Z"
    }
   },
   "cell_type": "code",
   "source": [
    "import pandas as pd\n",
    "\n",
    "# 파일 경로 설정\n",
    "daily_files = {\n",
    "    'korea_cd_daily': 'korea_cd_daily.csv',\n",
    "    'treasury_3month_daily': 'treasury_3month_daily.csv',\n",
    "    'usd_krw_daily': 'usd_krw_daily.csv'\n",
    "}\n",
    "\n",
    "quarterly_files = {\n",
    "    'korea_cd_quarterly': 'korea_cd_quarterly.csv',\n",
    "    'treasury_3month_quarterly': 'treasury_3month_quarterly.csv',\n",
    "    'usd_krw_quarterly': 'usd_krw_quarterly.csv'\n",
    "}\n",
    "\n",
    "# 일간 데이터 로드\n",
    "daily_dfs = []\n",
    "for name, file_path in daily_files.items():\n",
    "    df = pd.read_csv(file_path, parse_dates=True, index_col=0)\n",
    "    df.columns = [name]  # 컬럼명을 파일명으로 설정\n",
    "    daily_dfs.append(df)\n",
    "\n",
    "# 분기 데이터 로드\n",
    "quarterly_dfs = []\n",
    "for name, file_path in quarterly_files.items():\n",
    "    df = pd.read_csv(file_path, parse_dates=True, index_col=0)\n",
    "    df.columns = [name]  # 컬럼명을 파일명으로 설정\n",
    "    quarterly_dfs.append(df)\n",
    "\n",
    "# 일간 데이터 합치기 (날짜 기준으로 병합하고 ffill로 빈 데이터 채우기)\n",
    "daily_combined = pd.concat(daily_dfs, axis=1).sort_index().ffill()\n",
    "\n",
    "# 분기 데이터 합치기 (날짜 기준으로 병합하고 ffill로 빈 데이터 채우기)\n",
    "quarterly_combined = pd.concat(quarterly_dfs, axis=1).sort_index()\n"
   ],
   "id": "e34fc198e3c98613",
   "outputs": [],
   "execution_count": 33
  },
  {
   "metadata": {
    "ExecuteTime": {
     "end_time": "2024-09-18T01:29:22.830658Z",
     "start_time": "2024-09-18T01:29:22.811348Z"
    }
   },
   "cell_type": "code",
   "source": "daily_combined.iloc[1:].to_csv('daily_combined.csv')",
   "id": "ede437c5406eb39a",
   "outputs": [],
   "execution_count": 34
  },
  {
   "metadata": {
    "ExecuteTime": {
     "end_time": "2024-09-18T01:29:23.172440Z",
     "start_time": "2024-09-18T01:29:23.168721Z"
    }
   },
   "cell_type": "code",
   "source": "quarterly_combined.to_csv('quarterly_combined.csv')",
   "id": "cf5876ab9aecd1d3",
   "outputs": [],
   "execution_count": 35
  },
  {
   "metadata": {
    "ExecuteTime": {
     "end_time": "2024-09-18T12:48:40.560869Z",
     "start_time": "2024-09-18T12:48:40.522509Z"
    }
   },
   "cell_type": "code",
   "source": [
    "\n",
    "pce_raw_data = pd.read_csv('korea_pce_monthly_yoy_rawdata.csv')\n",
    "pce_data_index = pce_raw_data.T.iloc[1::3,1]\n",
    "pce_data = pce_raw_data.T.iloc[2::3,1]\n",
    "pce_data.index = pd.DatetimeIndex(pce_data_index.index)"
   ],
   "id": "10bfc0ddb6c3563",
   "outputs": [],
   "execution_count": 4
  },
  {
   "metadata": {
    "ExecuteTime": {
     "end_time": "2024-09-18T12:48:41.426760Z",
     "start_time": "2024-09-18T12:48:40.948106Z"
    }
   },
   "cell_type": "code",
   "source": [
    "pce_data.astype(float).plot()\n",
    "pce_data.to_csv('korea_pce_monthly_yoy.csv')"
   ],
   "id": "f06518f376d55474",
   "outputs": [
    {
     "data": {
      "text/plain": [
       "<Figure size 640x480 with 1 Axes>"
      ],
      "image/png": "[encoded data removed]"
     },
     "metadata": {},
     "output_type": "display_data"
    }
   ],
   "execution_count": 5
  },
  {
   "metadata": {
    "ExecuteTime": {
     "end_time": "2024-09-29T08:02:49.221333Z",
     "start_time": "2024-09-29T08:02:49.214626Z"
    }
   },
   "cell_type": "code",
   "source": [
    "import pandas as pd\n",
    "\n",
    "# CSV 파일 읽기\n",
    "df = pd.read_csv('WTI_raw.csv')\n",
    "df.columns = ['Date', 'Close','Open','high','Low','Volume','pct']\n",
    "\n",
    "# 날짜를 pandas datetime으로 변환\n",
    "df['Date'] = pd.to_datetime(df['Date'])\n",
    "# Date를 index로 설정\n",
    "df = df.set_index('Date')\n",
    "# 오래된데이터가 첫줄에 오도록 정렬\n",
    "df = df.sort_index()"
   ],
   "id": "3097efc6e20dd3df",
   "outputs": [],
   "execution_count": 33
  },
  {
   "metadata": {
    "ExecuteTime": {
     "end_time": "2024-09-29T08:04:55.353700Z",
     "start_time": "2024-09-29T08:04:55.350878Z"
    }
   },
   "cell_type": "code",
   "source": [
    "# 월별데이터의 전년동기대비 종가 상승률을 구하고자함\n",
    "wti_yoy = df['Close'].pct_change(12).dropna()"
   ],
   "id": "245c6935dc478c72",
   "outputs": [],
   "execution_count": 36
  },
  {
   "metadata": {
    "ExecuteTime": {
     "end_time": "2024-09-29T08:05:21.000271Z",
     "start_time": "2024-09-29T08:05:20.994685Z"
    }
   },
   "cell_type": "code",
   "source": "wti_yoy.to_csv('WTI_yoy.csv')",
   "id": "2a08f7aaedb5b8ff",
   "outputs": [],
   "execution_count": 38
  },
  {
   "metadata": {},
   "cell_type": "code",
   "outputs": [],
   "execution_count": null,
   "source": "",
   "id": "af4da432bb9c6f4c"
  }
 ],
 "metadata": {
  "kernelspec": {
   "display_name": "Python 3",
   "language": "python",
   "name": "python3"
  },
  "language_info": {
   "codemirror_mode": {
    "name": "ipython",
    "version": 2
   },
   "file_extension": ".py",
   "mimetype": "text/x-python",
   "name": "python",
   "nbconvert_exporter": "python",
   "pygments_lexer": "ipython2",
   "version": "2.7.6"
  }
 },
 "nbformat": 4,
 "nbformat_minor": 5
}
